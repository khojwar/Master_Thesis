{
  "nbformat": 4,
  "nbformat_minor": 0,
  "metadata": {
    "colab": {
      "provenance": [],
      "authorship_tag": "ABX9TyNdAlN0vDkgb4Crv1wDnYzn",
      "include_colab_link": true
    },
    "kernelspec": {
      "name": "python3",
      "display_name": "Python 3"
    },
    "language_info": {
      "name": "python"
    }
  },
  "cells": [
    {
      "cell_type": "markdown",
      "metadata": {
        "id": "view-in-github",
        "colab_type": "text"
      },
      "source": [
        "<a href=\"https://colab.research.google.com/github/khojwar/Master_Thesis/blob/main/007_(another_experiment)_pos_tagging_using_lstm_without_loosing_sentence_sentiment.ipynb\" target=\"_parent\"><img src=\"https://colab.research.google.com/assets/colab-badge.svg\" alt=\"Open In Colab\"/></a>"
      ]
    },
    {
      "cell_type": "code",
      "execution_count": 1,
      "metadata": {
        "id": "8C1egnr_s2TK"
      },
      "outputs": [],
      "source": [
        "# import xml.etree.ElementTree as ET\n",
        "# import numpy as np\n",
        "# from sklearn.model_selection import train_test_split\n",
        "# from keras.preprocessing.sequence import pad_sequences\n",
        "# from keras.models import Sequential\n",
        "# from keras.layers import Embedding, LSTM, Dense, TimeDistributed\n",
        "\n",
        "# # Step 1: Data Preprocessing\n",
        "# def parse_xml(xml_path):\n",
        "#     tree = ET.parse(xml_path)\n",
        "#     root = tree.getroot()\n",
        "#     sentences = []\n",
        "#     pos_tags = []\n",
        "#     for sentence in root.findall('.//s'):\n",
        "#         words = []\n",
        "#         tags = []\n",
        "#         for word_elem in sentence.findall('./w'):\n",
        "#             words.append(word_elem.text)\n",
        "#             tags.append(word_elem.get('ctag'))\n",
        "#         sentences.append(words)\n",
        "#         pos_tags.append(tags)\n",
        "#     return sentences, pos_tags\n",
        "\n",
        "# # Step 2: Word Embedding with word2vec\n",
        "# def train_word2vec(sentences, embedding_dim=100):\n",
        "#     # Train word2vec model here\n",
        "#     # Replace this with actual word2vec training code\n",
        "#     pass\n",
        "\n",
        "# # Step 4: Sentence Sentiment Preservation\n",
        "# def train_sentiment_analysis(sentences, sentiments):\n",
        "#     # Train sentiment analysis model here\n",
        "#     # Replace this with actual sentiment analysis training code\n",
        "#     pass\n",
        "\n",
        "# # Step 5: LSTM Architecture for POS Tagging\n",
        "# def build_lstm_pos_tagging_model(vocab_size, embedding_dim, num_tags):\n",
        "#     model = Sequential()\n",
        "#     model.add(Embedding(input_dim=vocab_size, output_dim=embedding_dim, input_length=None))\n",
        "#     model.add(LSTM(units=128, return_sequences=True))\n",
        "#     model.add(TimeDistributed(Dense(num_tags, activation='softmax')))\n",
        "#     return model\n",
        "\n",
        "# def main():\n",
        "#     xml_path = 'your_xml_file.xml'\n",
        "#     sentences, pos_tags = parse_xml(xml_path)\n",
        "\n",
        "#     # Step 2: Word Embedding with word2vec\n",
        "#     embedding_model = train_word2vec(sentences)\n",
        "\n",
        "#     # Step 4: Sentence Sentiment Preservation\n",
        "#     sentiment_labels = []  # Sentiment labels for each sentence\n",
        "#     sentiment_model = train_sentiment_analysis(sentences, sentiment_labels)\n",
        "\n",
        "#     # Create vocabulary and POS tag mapping\n",
        "#     vocab = set([word for sentence in sentences for word in sentence])\n",
        "#     pos_tags_set = set([tag for tags in pos_tags for tag in tags])\n",
        "#     word_to_idx = {word: idx + 1 for idx, word in enumerate(vocab)}\n",
        "#     tag_to_idx = {tag: idx for idx, tag in enumerate(pos_tags_set)}\n",
        "#     idx_to_tag = {idx: tag for tag, idx in tag_to_idx.items()}\n",
        "\n",
        "#     # Convert words and tags to indices\n",
        "#     sentences_indices = [[word_to_idx[word] for word in sentence] for sentence in sentences]\n",
        "#     pos_tags_indices = [[tag_to_idx[tag] for tag in tags] for tags in pos_tags]\n",
        "\n",
        "#     # Split data into training and validation sets\n",
        "#     sentences_train, sentences_val, pos_tags_train, pos_tags_val = train_test_split(\n",
        "#         sentences_indices, pos_tags_indices, test_size=0.2, random_state=42\n",
        "#     )\n",
        "\n",
        "#     # Step 5: LSTM Architecture for POS Tagging\n",
        "#     num_tags = len(tag_to_idx)\n",
        "#     model = build_lstm_pos_tagging_model(len(word_to_idx) + 1, embedding_dim=100, num_tags=num_tags)\n",
        "#     model.compile(optimizer='adam', loss='sparse_categorical_crossentropy', metrics=['accuracy'])\n",
        "\n",
        "#     # Train the model\n",
        "#     model.fit(np.array(sentences_train), np.array(pos_tags_train), batch_size=32, epochs=10, validation_data=(sentences_val, pos_tags_val))\n",
        "\n",
        "# if __name__ == '__main__':\n",
        "#     main()\n"
      ]
    },
    {
      "cell_type": "code",
      "source": [],
      "metadata": {
        "id": "wQFEhvCGuMtY"
      },
      "execution_count": 1,
      "outputs": []
    },
    {
      "cell_type": "code",
      "source": [],
      "metadata": {
        "id": "x80HzGVpuMp-"
      },
      "execution_count": 1,
      "outputs": []
    },
    {
      "cell_type": "code",
      "source": [],
      "metadata": {
        "id": "nWEOp0vwuMn7"
      },
      "execution_count": 1,
      "outputs": []
    },
    {
      "cell_type": "code",
      "source": [],
      "metadata": {
        "id": "f5yaBwkcuMkh"
      },
      "execution_count": 1,
      "outputs": []
    },
    {
      "cell_type": "code",
      "source": [
        "!pip install tensorflow"
      ],
      "metadata": {
        "colab": {
          "base_uri": "https://localhost:8080/"
        },
        "id": "UWj4lMv9upFn",
        "outputId": "700a72f7-67eb-40dc-85f5-54b134af43f8"
      },
      "execution_count": 2,
      "outputs": [
        {
          "output_type": "stream",
          "name": "stdout",
          "text": [
            "Requirement already satisfied: tensorflow in /usr/local/lib/python3.10/dist-packages (2.12.0)\n",
            "Requirement already satisfied: absl-py>=1.0.0 in /usr/local/lib/python3.10/dist-packages (from tensorflow) (1.4.0)\n",
            "Requirement already satisfied: astunparse>=1.6.0 in /usr/local/lib/python3.10/dist-packages (from tensorflow) (1.6.3)\n",
            "Requirement already satisfied: flatbuffers>=2.0 in /usr/local/lib/python3.10/dist-packages (from tensorflow) (23.5.26)\n",
            "Requirement already satisfied: gast<=0.4.0,>=0.2.1 in /usr/local/lib/python3.10/dist-packages (from tensorflow) (0.4.0)\n",
            "Requirement already satisfied: google-pasta>=0.1.1 in /usr/local/lib/python3.10/dist-packages (from tensorflow) (0.2.0)\n",
            "Requirement already satisfied: grpcio<2.0,>=1.24.3 in /usr/local/lib/python3.10/dist-packages (from tensorflow) (1.57.0)\n",
            "Requirement already satisfied: h5py>=2.9.0 in /usr/local/lib/python3.10/dist-packages (from tensorflow) (3.9.0)\n",
            "Requirement already satisfied: jax>=0.3.15 in /usr/local/lib/python3.10/dist-packages (from tensorflow) (0.4.14)\n",
            "Requirement already satisfied: keras<2.13,>=2.12.0 in /usr/local/lib/python3.10/dist-packages (from tensorflow) (2.12.0)\n",
            "Requirement already satisfied: libclang>=13.0.0 in /usr/local/lib/python3.10/dist-packages (from tensorflow) (16.0.6)\n",
            "Requirement already satisfied: numpy<1.24,>=1.22 in /usr/local/lib/python3.10/dist-packages (from tensorflow) (1.23.5)\n",
            "Requirement already satisfied: opt-einsum>=2.3.2 in /usr/local/lib/python3.10/dist-packages (from tensorflow) (3.3.0)\n",
            "Requirement already satisfied: packaging in /usr/local/lib/python3.10/dist-packages (from tensorflow) (23.1)\n",
            "Requirement already satisfied: protobuf!=4.21.0,!=4.21.1,!=4.21.2,!=4.21.3,!=4.21.4,!=4.21.5,<5.0.0dev,>=3.20.3 in /usr/local/lib/python3.10/dist-packages (from tensorflow) (3.20.3)\n",
            "Requirement already satisfied: setuptools in /usr/local/lib/python3.10/dist-packages (from tensorflow) (67.7.2)\n",
            "Requirement already satisfied: six>=1.12.0 in /usr/local/lib/python3.10/dist-packages (from tensorflow) (1.16.0)\n",
            "Requirement already satisfied: tensorboard<2.13,>=2.12 in /usr/local/lib/python3.10/dist-packages (from tensorflow) (2.12.3)\n",
            "Requirement already satisfied: tensorflow-estimator<2.13,>=2.12.0 in /usr/local/lib/python3.10/dist-packages (from tensorflow) (2.12.0)\n",
            "Requirement already satisfied: termcolor>=1.1.0 in /usr/local/lib/python3.10/dist-packages (from tensorflow) (2.3.0)\n",
            "Requirement already satisfied: typing-extensions>=3.6.6 in /usr/local/lib/python3.10/dist-packages (from tensorflow) (4.7.1)\n",
            "Requirement already satisfied: wrapt<1.15,>=1.11.0 in /usr/local/lib/python3.10/dist-packages (from tensorflow) (1.14.1)\n",
            "Requirement already satisfied: tensorflow-io-gcs-filesystem>=0.23.1 in /usr/local/lib/python3.10/dist-packages (from tensorflow) (0.33.0)\n",
            "Requirement already satisfied: wheel<1.0,>=0.23.0 in /usr/local/lib/python3.10/dist-packages (from astunparse>=1.6.0->tensorflow) (0.41.1)\n",
            "Requirement already satisfied: ml-dtypes>=0.2.0 in /usr/local/lib/python3.10/dist-packages (from jax>=0.3.15->tensorflow) (0.2.0)\n",
            "Requirement already satisfied: scipy>=1.7 in /usr/local/lib/python3.10/dist-packages (from jax>=0.3.15->tensorflow) (1.10.1)\n",
            "Requirement already satisfied: google-auth<3,>=1.6.3 in /usr/local/lib/python3.10/dist-packages (from tensorboard<2.13,>=2.12->tensorflow) (2.17.3)\n",
            "Requirement already satisfied: google-auth-oauthlib<1.1,>=0.5 in /usr/local/lib/python3.10/dist-packages (from tensorboard<2.13,>=2.12->tensorflow) (1.0.0)\n",
            "Requirement already satisfied: markdown>=2.6.8 in /usr/local/lib/python3.10/dist-packages (from tensorboard<2.13,>=2.12->tensorflow) (3.4.4)\n",
            "Requirement already satisfied: requests<3,>=2.21.0 in /usr/local/lib/python3.10/dist-packages (from tensorboard<2.13,>=2.12->tensorflow) (2.31.0)\n",
            "Requirement already satisfied: tensorboard-data-server<0.8.0,>=0.7.0 in /usr/local/lib/python3.10/dist-packages (from tensorboard<2.13,>=2.12->tensorflow) (0.7.1)\n",
            "Requirement already satisfied: werkzeug>=1.0.1 in /usr/local/lib/python3.10/dist-packages (from tensorboard<2.13,>=2.12->tensorflow) (2.3.7)\n",
            "Requirement already satisfied: cachetools<6.0,>=2.0.0 in /usr/local/lib/python3.10/dist-packages (from google-auth<3,>=1.6.3->tensorboard<2.13,>=2.12->tensorflow) (5.3.1)\n",
            "Requirement already satisfied: pyasn1-modules>=0.2.1 in /usr/local/lib/python3.10/dist-packages (from google-auth<3,>=1.6.3->tensorboard<2.13,>=2.12->tensorflow) (0.3.0)\n",
            "Requirement already satisfied: rsa<5,>=3.1.4 in /usr/local/lib/python3.10/dist-packages (from google-auth<3,>=1.6.3->tensorboard<2.13,>=2.12->tensorflow) (4.9)\n",
            "Requirement already satisfied: requests-oauthlib>=0.7.0 in /usr/local/lib/python3.10/dist-packages (from google-auth-oauthlib<1.1,>=0.5->tensorboard<2.13,>=2.12->tensorflow) (1.3.1)\n",
            "Requirement already satisfied: charset-normalizer<4,>=2 in /usr/local/lib/python3.10/dist-packages (from requests<3,>=2.21.0->tensorboard<2.13,>=2.12->tensorflow) (3.2.0)\n",
            "Requirement already satisfied: idna<4,>=2.5 in /usr/local/lib/python3.10/dist-packages (from requests<3,>=2.21.0->tensorboard<2.13,>=2.12->tensorflow) (3.4)\n",
            "Requirement already satisfied: urllib3<3,>=1.21.1 in /usr/local/lib/python3.10/dist-packages (from requests<3,>=2.21.0->tensorboard<2.13,>=2.12->tensorflow) (2.0.4)\n",
            "Requirement already satisfied: certifi>=2017.4.17 in /usr/local/lib/python3.10/dist-packages (from requests<3,>=2.21.0->tensorboard<2.13,>=2.12->tensorflow) (2023.7.22)\n",
            "Requirement already satisfied: MarkupSafe>=2.1.1 in /usr/local/lib/python3.10/dist-packages (from werkzeug>=1.0.1->tensorboard<2.13,>=2.12->tensorflow) (2.1.3)\n",
            "Requirement already satisfied: pyasn1<0.6.0,>=0.4.6 in /usr/local/lib/python3.10/dist-packages (from pyasn1-modules>=0.2.1->google-auth<3,>=1.6.3->tensorboard<2.13,>=2.12->tensorflow) (0.5.0)\n",
            "Requirement already satisfied: oauthlib>=3.0.0 in /usr/local/lib/python3.10/dist-packages (from requests-oauthlib>=0.7.0->google-auth-oauthlib<1.1,>=0.5->tensorboard<2.13,>=2.12->tensorflow) (3.2.2)\n"
          ]
        }
      ]
    },
    {
      "cell_type": "code",
      "source": [
        "import xml.etree.ElementTree as ET\n",
        "import numpy as np\n",
        "from sklearn.model_selection import train_test_split\n",
        "from tensorflow.keras.preprocessing.sequence import pad_sequences  # Update this line\n",
        "from tensorflow.keras.models import Sequential\n",
        "from tensorflow.keras.layers import Embedding, LSTM, Dense, TimeDistributed  # Update this line\n"
      ],
      "metadata": {
        "id": "xWndWHacu3d-"
      },
      "execution_count": 3,
      "outputs": []
    },
    {
      "cell_type": "markdown",
      "source": [
        "# Function for Step 1: Data Preprocessing"
      ],
      "metadata": {
        "id": "37BuvGaA01oL"
      }
    },
    {
      "cell_type": "code",
      "source": [
        "# # Function for Step 1: Data Preprocessing\n",
        "# def parse_xml(xml_path):\n",
        "#     tree = ET.parse(xml_path)\n",
        "#     root = tree.getroot()\n",
        "#     sentences = []\n",
        "#     pos_tags = []\n",
        "#     for sentence in root.findall('.//s'):\n",
        "#         words = []\n",
        "#         tags = []\n",
        "#         for word_elem in sentence.findall('./w'):\n",
        "#             words.append(word_elem.text)\n",
        "#             tags.append(word_elem.get('ctag'))\n",
        "#         sentences.append(words)\n",
        "#         pos_tags.append(tags)\n",
        "#     return sentences, pos_tags"
      ],
      "metadata": {
        "id": "3At-LRyEuPsR"
      },
      "execution_count": 4,
      "outputs": []
    },
    {
      "cell_type": "code",
      "source": [
        "# file_path = \"book-academic-jana-siksha-2058.xml\"\n",
        "# sentences, pos_tags = parse_xml(file_path)"
      ],
      "metadata": {
        "id": "I7pGsdw5vRUJ"
      },
      "execution_count": 5,
      "outputs": []
    },
    {
      "cell_type": "markdown",
      "source": [
        "# function for Step 2: Word Embedding with word2vec"
      ],
      "metadata": {
        "id": "ZNlAjfZ3xNzr"
      }
    },
    {
      "cell_type": "code",
      "source": [
        "!pip install --upgrade gensim"
      ],
      "metadata": {
        "colab": {
          "base_uri": "https://localhost:8080/"
        },
        "id": "X0zqh9s9zfeP",
        "outputId": "54cd2e3d-52d3-41db-e195-a6eec4596403"
      },
      "execution_count": 6,
      "outputs": [
        {
          "output_type": "stream",
          "name": "stdout",
          "text": [
            "Requirement already satisfied: gensim in /usr/local/lib/python3.10/dist-packages (4.3.1)\n",
            "Requirement already satisfied: numpy>=1.18.5 in /usr/local/lib/python3.10/dist-packages (from gensim) (1.23.5)\n",
            "Requirement already satisfied: scipy>=1.7.0 in /usr/local/lib/python3.10/dist-packages (from gensim) (1.10.1)\n",
            "Requirement already satisfied: smart-open>=1.8.1 in /usr/local/lib/python3.10/dist-packages (from gensim) (6.3.0)\n"
          ]
        }
      ]
    },
    {
      "cell_type": "code",
      "source": [
        "# from gensim.models import Word2Vec\n",
        "\n",
        "# # Step 2: Word Embedding with word2vec\n",
        "# def train_word2vec(sentences, embedding_dim=100):\n",
        "#     # Train word2vec model here\n",
        "#     model = Word2Vec(sentences, vector_size=embedding_dim, window=5, min_count=1, workers=4)\n",
        "#     return model\n",
        "\n"
      ],
      "metadata": {
        "id": "sDwrPL2mvyhS"
      },
      "execution_count": 7,
      "outputs": []
    },
    {
      "cell_type": "code",
      "source": [
        "# file_path = \"book-academic-jana-siksha-2058.xml\"\n",
        "# sentences, pos_tags = parse_xml(file_path)\n",
        "\n",
        "# # Step 2: Word Embedding with word2vec\n",
        "# embedding_dim = 100  # Change this to your desired embedding dimension\n",
        "# embedding_model = train_word2vec(sentences, embedding_dim)"
      ],
      "metadata": {
        "id": "9XpxgKoZyqw9"
      },
      "execution_count": 8,
      "outputs": []
    },
    {
      "cell_type": "markdown",
      "source": [
        "# Function for Step 4: Sentence Sentiment Preservation"
      ],
      "metadata": {
        "id": "gcYwibm21Ygy"
      }
    },
    {
      "cell_type": "code",
      "source": [
        "# from tensorflow.keras.preprocessing.text import Tokenizer\n",
        "\n",
        "\n",
        "# # Step 4: Sentence Sentiment Preservation\n",
        "# def train_sentiment_analysis(sentences, sentiments):\n",
        "#     # Train sentiment analysis model here\n",
        "#     tokenizer = Tokenizer()\n",
        "#     tokenizer.fit_on_texts(sentences)\n",
        "#     sequences = tokenizer.texts_to_sequences(sentences)\n",
        "#     max_sequence_length = max([len(seq) for seq in sequences])\n",
        "#     padded_sequences = pad_sequences(sequences, maxlen=max_sequence_length)\n",
        "\n",
        "#     sentiment_model = Sequential()\n",
        "#     sentiment_model.add(Embedding(input_dim=len(tokenizer.word_index) + 1, output_dim=100, input_length=max_sequence_length))\n",
        "#     sentiment_model.add(LSTM(units=128))\n",
        "#     sentiment_model.add(Dense(1, activation='sigmoid'))\n",
        "#     sentiment_model.compile(optimizer='adam', loss='binary_crossentropy', metrics=['accuracy'])\n",
        "\n",
        "#     X_train, X_val, y_train, y_val = train_test_split(padded_sequences, sentiments, test_size=0.2, random_state=42)\n",
        "\n",
        "#     sentiment_model.fit(X_train, y_train, validation_data=(X_val, y_val), batch_size=32, epochs=10)\n",
        "\n",
        "#     return sentiment_model\n"
      ],
      "metadata": {
        "id": "Ax3FZ4PR1mzu"
      },
      "execution_count": 9,
      "outputs": []
    },
    {
      "cell_type": "markdown",
      "source": [
        "# function for Step 5: LSTM Architecture for POS Tagging"
      ],
      "metadata": {
        "id": "R3JEWc-G3aXA"
      }
    },
    {
      "cell_type": "code",
      "source": [
        "# # Step 5: LSTM Architecture for POS Tagging\n",
        "# def build_lstm_pos_tagging_model(vocab_size, embedding_dim, num_tags):\n",
        "#     model = Sequential()\n",
        "#     model.add(Embedding(input_dim=vocab_size, output_dim=embedding_dim, input_length=None))\n",
        "#     model.add(LSTM(units=128, return_sequences=True))\n",
        "#     model.add(TimeDistributed(Dense(num_tags, activation='softmax')))\n",
        "#     return model"
      ],
      "metadata": {
        "id": "5hWduZZL11RR"
      },
      "execution_count": 10,
      "outputs": []
    },
    {
      "cell_type": "code",
      "source": [],
      "metadata": {
        "id": "5MNmoTU72y2L"
      },
      "execution_count": 10,
      "outputs": []
    },
    {
      "cell_type": "markdown",
      "source": [
        "# Lets Start from begining"
      ],
      "metadata": {
        "id": "Q5wjZTQe3utQ"
      }
    },
    {
      "cell_type": "markdown",
      "source": [
        "# step 1:"
      ],
      "metadata": {
        "id": "ToaIw2_IErvY"
      }
    },
    {
      "cell_type": "code",
      "source": [
        "def parse_xml(xml_path):\n",
        "    tree = ET.parse(xml_path)\n",
        "    root = tree.getroot()\n",
        "    sentences = []\n",
        "    pos_tags = []\n",
        "    for sentence in root.findall('.//s'):\n",
        "        words = []\n",
        "        tags = []\n",
        "        for word_elem in sentence.findall('./w'):\n",
        "            words.append(word_elem.text)\n",
        "            tags.append(word_elem.get('ctag'))\n",
        "        sentences.append(words)\n",
        "        pos_tags.append(tags)\n",
        "    return sentences, pos_tags"
      ],
      "metadata": {
        "id": "EsHefpJBEbnC"
      },
      "execution_count": 11,
      "outputs": []
    },
    {
      "cell_type": "code",
      "source": [
        "file_path = \"book-academic-jana-siksha-2058.xml\"\n",
        "sentences, pos_tags = parse_xml(file_path)"
      ],
      "metadata": {
        "id": "CvJvqqUz387E"
      },
      "execution_count": 12,
      "outputs": []
    },
    {
      "cell_type": "markdown",
      "source": [
        "# Step 2: Word Embedding with word2vec"
      ],
      "metadata": {
        "id": "26LwrVTAEvjt"
      }
    },
    {
      "cell_type": "code",
      "source": [
        "from gensim.models import Word2Vec\n",
        "\n",
        "def train_word2vec(sentences, embedding_dim=100):\n",
        "    model = Word2Vec(sentences, vector_size=embedding_dim, window=5, min_count=1, workers=4)\n",
        "    return model"
      ],
      "metadata": {
        "id": "zT_dbrWvEmU9"
      },
      "execution_count": 13,
      "outputs": []
    },
    {
      "cell_type": "code",
      "source": [
        "# Step 2: Word Embedding with word2vec\n",
        "embedding_model = train_word2vec(sentences)"
      ],
      "metadata": {
        "id": "1FTm_sI45AIY"
      },
      "execution_count": 14,
      "outputs": []
    },
    {
      "cell_type": "code",
      "source": [
        "# Create vocabulary and POS tag mapping\n",
        "vocab = set([word for sentence in sentences for word in sentence])\n",
        "pos_tags_set = set([tag for tags in pos_tags for tag in tags])\n",
        "word_to_idx = {word: idx + 1 for idx, word in enumerate(vocab)}\n",
        "tag_to_idx = {tag: idx for idx, tag in enumerate(pos_tags_set)}\n",
        "idx_to_tag = {idx: tag for tag, idx in tag_to_idx.items()}"
      ],
      "metadata": {
        "id": "pJ01Q7rm5hI0"
      },
      "execution_count": 15,
      "outputs": []
    },
    {
      "cell_type": "code",
      "source": [
        "# Convert words and tags to indices\n",
        "sentences_indices = [[word_to_idx[word] for word in sentence] for sentence in sentences]\n",
        "pos_tags_indices = [[tag_to_idx[tag] for tag in tags] for tags in pos_tags]\n"
      ],
      "metadata": {
        "id": "pcho2heq5wLJ"
      },
      "execution_count": 16,
      "outputs": []
    },
    {
      "cell_type": "code",
      "source": [
        "# Pad sequences\n",
        "max_sequence_length = max([len(seq) for seq in sentences_indices])\n",
        "sentences_indices_padded = pad_sequences(sentences_indices, maxlen=max_sequence_length)\n",
        "pos_tags_indices_padded = pad_sequences(pos_tags_indices, maxlen=max_sequence_length)\n"
      ],
      "metadata": {
        "id": "n1HH8IlH7yM4"
      },
      "execution_count": 17,
      "outputs": []
    },
    {
      "cell_type": "code",
      "source": [
        "# Split data into training and validation sets\n",
        "sentences_train, sentences_val, pos_tags_train, pos_tags_val = train_test_split(sentences_indices_padded, pos_tags_indices_padded, test_size=0.2, random_state=42)"
      ],
      "metadata": {
        "id": "IHbvFq3s6Xe6"
      },
      "execution_count": 18,
      "outputs": []
    },
    {
      "cell_type": "code",
      "source": [
        "# Step 5: LSTM Architecture for POS Tagging\n",
        "def build_lstm_pos_tagging_model(vocab_size, embedding_dim, num_tags):\n",
        "    model = Sequential()\n",
        "    model.add(Embedding(input_dim=vocab_size, output_dim=embedding_dim, input_length=None))\n",
        "    model.add(LSTM(units=128, return_sequences=True))\n",
        "    model.add(TimeDistributed(Dense(num_tags, activation='softmax')))\n",
        "    return model"
      ],
      "metadata": {
        "id": "DlCGpF-QilMK"
      },
      "execution_count": 19,
      "outputs": []
    },
    {
      "cell_type": "code",
      "source": [
        "# Step 5: LSTM Architecture for POS Tagging\n",
        "num_tags = len(tag_to_idx)\n",
        "model = build_lstm_pos_tagging_model(len(word_to_idx) + 1, embedding_dim=100, num_tags=num_tags)\n",
        "model.compile(optimizer='adam', loss='sparse_categorical_crossentropy', metrics=['accuracy'])\n",
        "\n",
        "# Train the model\n",
        "history = model.fit(sentences_train, pos_tags_train, batch_size=512, epochs=3, validation_split=0.2, verbose=1)"
      ],
      "metadata": {
        "colab": {
          "base_uri": "https://localhost:8080/"
        },
        "id": "ZAceGn7t30_7",
        "outputId": "e37eb08b-44f1-426f-c3b9-fedad9e1127c"
      },
      "execution_count": 20,
      "outputs": [
        {
          "output_type": "stream",
          "name": "stdout",
          "text": [
            "Epoch 1/3\n",
            "4/4 [==============================] - 35s 9s/step - loss: 4.3161 - accuracy: 0.3951 - val_loss: 4.0713 - val_accuracy: 0.9477\n",
            "Epoch 2/3\n",
            "4/4 [==============================] - 16s 4s/step - loss: 3.8173 - accuracy: 0.9460 - val_loss: 2.6151 - val_accuracy: 0.9477\n",
            "Epoch 3/3\n",
            "4/4 [==============================] - 18s 4s/step - loss: 1.8183 - accuracy: 0.9460 - val_loss: 0.7132 - val_accuracy: 0.9477\n"
          ]
        }
      ]
    },
    {
      "cell_type": "code",
      "source": [
        "# history = model.fit(sentences_train, pos_tags_train, batch_size=32, epochs=10, validation_data=(sentences_val, pos_tags_val)"
      ],
      "metadata": {
        "id": "_2mm3IrSLwTh"
      },
      "execution_count": 21,
      "outputs": []
    },
    {
      "cell_type": "code",
      "source": [
        "# evaluate the model\n",
        "results = model.evaluate(sentences_val, pos_tags_val, batch_size=512, verbose=2)\n",
        "\n",
        "for name, value in zip(model.metrics_names, results):\n",
        "  print(\"%s: %.3f\" % (name, value))"
      ],
      "metadata": {
        "colab": {
          "base_uri": "https://localhost:8080/"
        },
        "id": "1vw6sNknMtcm",
        "outputId": "627f6be7-1e30-4f16-b31f-b9a785c68313"
      },
      "execution_count": 22,
      "outputs": [
        {
          "output_type": "stream",
          "name": "stdout",
          "text": [
            "2/2 - 2s - loss: 0.7300 - accuracy: 0.9444 - 2s/epoch - 916ms/step\n",
            "loss: 0.730\n",
            "accuracy: 0.944\n"
          ]
        }
      ]
    },
    {
      "cell_type": "markdown",
      "source": [
        "# Create a plot of accuracy and loss over time\n",
        "model.fit() returns a History object that contains a dictionary with everything that happened during training:"
      ],
      "metadata": {
        "id": "9moPi9paOSuA"
      }
    },
    {
      "cell_type": "code",
      "source": [
        "history_dict = history.history\n",
        "history_dict.keys()"
      ],
      "metadata": {
        "colab": {
          "base_uri": "https://localhost:8080/"
        },
        "id": "JARLooQzONnu",
        "outputId": "57b323ee-38a2-4244-f79c-9068a91f4596"
      },
      "execution_count": 23,
      "outputs": [
        {
          "output_type": "execute_result",
          "data": {
            "text/plain": [
              "dict_keys(['loss', 'accuracy', 'val_loss', 'val_accuracy'])"
            ]
          },
          "metadata": {},
          "execution_count": 23
        }
      ]
    },
    {
      "cell_type": "code",
      "source": [
        "import matplotlib.pyplot as plt\n",
        "\n",
        "# Assuming you have already trained your Keras model and have the history object\n",
        "# history = model.fit(...)\n",
        "\n",
        "# Plot training accuracy\n",
        "plt.figure(figsize=(12, 6))\n",
        "plt.subplot(1, 2, 1)\n",
        "plt.plot(history.history['accuracy'], label='Training Accuracy')\n",
        "plt.plot(history.history['val_accuracy'], label='Validation Accuracy')\n",
        "plt.title('Training and Validation Accuracy')\n",
        "plt.xlabel('Epoch')\n",
        "plt.ylabel('Accuracy')\n",
        "plt.legend()\n",
        "\n",
        "# Plot training loss\n",
        "plt.subplot(1, 2, 2)\n",
        "plt.plot(history.history['loss'], label='Training Loss')\n",
        "plt.plot(history.history['val_loss'], label='Validation Loss')\n",
        "plt.title('Training and Validation Loss')\n",
        "plt.xlabel('Epoch')\n",
        "plt.ylabel('Loss')\n",
        "plt.legend()\n",
        "\n",
        "plt.tight_layout()\n",
        "plt.show()\n"
      ],
      "metadata": {
        "colab": {
          "base_uri": "https://localhost:8080/",
          "height": 607
        },
        "id": "m21OjWu2OZ0N",
        "outputId": "3352539c-c020-4e0d-8a6d-2e81d6106ebe"
      },
      "execution_count": 24,
      "outputs": [
        {
          "output_type": "display_data",
          "data": {
            "text/plain": [
              "<Figure size 1200x600 with 2 Axes>"
            ],
            "image/png": "[encoded data removed]"
          },
          "metadata": {}
        }
      ]
    },
    {
      "cell_type": "markdown",
      "source": [
        "# Inference on new data"
      ],
      "metadata": {
        "id": "0Qk4k02yPgmj"
      }
    },
    {
      "cell_type": "code",
      "source": [
        "import nltk\n",
        "nltk.download('punkt')"
      ],
      "metadata": {
        "colab": {
          "base_uri": "https://localhost:8080/"
        },
        "id": "MkpBkwAEpv2t",
        "outputId": "8f1672a5-ec1e-49c9-abd7-54e3e5d68ebf"
      },
      "execution_count": 25,
      "outputs": [
        {
          "output_type": "stream",
          "name": "stderr",
          "text": [
            "[nltk_data] Downloading package punkt to /root/nltk_data...\n",
            "[nltk_data]   Package punkt is already up-to-date!\n"
          ]
        },
        {
          "output_type": "execute_result",
          "data": {
            "text/plain": [
              "True"
            ]
          },
          "metadata": {},
          "execution_count": 25
        }
      ]
    },
    {
      "cell_type": "code",
      "source": [
        "from nltk.tokenize import word_tokenize\n",
        "new_sentence = \"जनमुखी\"\n",
        "tokenized_new_sentence = word_tokenize(new_sentence.lower())\n",
        "new_sentence_indices = [word_to_idx[word] for word in tokenized_new_sentence]\n",
        "\n",
        "predicted_tag_indices = model.predict(np.array([new_sentence_indices]))\n",
        "predicted_tags = [list(tag_to_idx.keys())[idx] for idx in np.argmax(predicted_tag_indices, axis=-1)[0]]\n",
        "\n",
        "print(list(zip(tokenized_new_sentence, predicted_tags)))"
      ],
      "metadata": {
        "colab": {
          "base_uri": "https://localhost:8080/"
        },
        "id": "4MuJmV-poTfe",
        "outputId": "7ef3fc77-8b23-4cbc-839f-05ded1e899ce"
      },
      "execution_count": 33,
      "outputs": [
        {
          "output_type": "stream",
          "name": "stdout",
          "text": [
            "1/1 [==============================] - 1s 516ms/step\n",
            "[('जनमुखी', 'DKO')]\n"
          ]
        }
      ]
    },
    {
      "cell_type": "code",
      "source": [
        "# user_input = input(\"Enter a sentence: \")\n",
        "user_input = \"तराईको गर्मी होस् वा डुबान, दुवै बेला सर्पको डर सधैं रहन्छ । सावधानी अपनाउँदा अपनाउँदै सर्पदंशको चपेटमा पर्नेहरु भइहाल्छन्, झट्ट उपचार चाहिन्छ । यस्तो बेला नेपाली सेनाले पर्साको ग्रामीण भेगलाई सेवा दिनेगरी सञ्चालन गरेको सर्पदंश उपचार केन्द्रले ठूलो भर गरेको छ ।\"\n",
        "\n",
        "# Tokenize and preprocess user input\n",
        "user_input_tokens = user_input.split()  # Basic tokenization\n",
        "user_input_indices = [word_to_idx.get(word, 0) for word in user_input_tokens]\n",
        "print(\"user_input_indices: \\n\", user_input_indices)\n",
        "user_input_padded = pad_sequences([user_input_indices], maxlen=max_sequence_length)\n",
        "print(\"user_input_padded: \\n\", user_input_padded)\n",
        "\n",
        "# Use POS tagging model on user input\n",
        "pos_tag_probabilities = model.predict(user_input_padded)[0]  # Get probabilities for each tag\n",
        "print(\"pos_tag_probabilities: \\n\", pos_tag_probabilities)\n",
        "pos_tag_indices = [np.argmax(probabilities) for probabilities in pos_tag_probabilities]\n",
        "print(\"pos_tag_indices: \\n\", pos_tag_indices)\n",
        "pos_tags_predicted = [idx_to_tag[idx] for idx in pos_tag_indices]\n",
        "\n",
        "# Combine words and predicted POS tags\n",
        "# combined_output = ' '.join([f'{word}/{tag}' for word, tag in zip(user_input_tokens, pos_tags_predicted)])\n",
        "\n",
        "print(\"POS Tags:\", pos_tags_predicted)\n",
        "# print(\"POS Tags:\", combined_output)\n",
        "\n",
        "\n",
        "\n",
        "\n"
      ],
      "metadata": {
        "colab": {
          "base_uri": "https://localhost:8080/"
        },
        "id": "rwP6PoiR9KaA",
        "outputId": "503d6543-88cb-45df-91d8-1f86f45d5e13"
      },
      "execution_count": 27,
      "outputs": [
        {
          "output_type": "stream",
          "name": "stdout",
          "text": [
            "user_input_indices: \n",
            " [0, 0, 840, 1873, 0, 4510, 4148, 0, 6543, 1860, 3674, 5868, 0, 0, 0, 0, 0, 0, 0, 0, 2996, 5231, 5868, 2456, 4148, 6703, 0, 0, 1552, 0, 6183, 0, 6187, 0, 0, 2996, 0, 977, 425, 0, 1467, 5868]\n",
            "user_input_padded: \n",
            " [[   0    0    0    0    0    0    0    0    0    0    0    0    0    0\n",
            "     0    0    0    0    0    0    0    0    0    0    0    0    0    0\n",
            "     0    0    0    0    0    0    0    0    0    0    0    0    0    0\n",
            "     0    0    0    0    0    0    0    0    0    0    0    0    0    0\n",
            "     0    0    0    0    0    0    0    0    0    0    0    0    0    0\n",
            "     0    0    0    0    0    0    0    0    0    0    0    0    0    0\n",
            "     0    0    0    0    0    0    0    0    0    0    0    0    0    0\n",
            "     0    0    0    0    0    0    0    0    0    0    0    0    0    0\n",
            "     0    0    0    0    0    0    0    0    0    0    0    0    0    0\n",
            "     0    0    0    0    0    0    0    0    0    0    0    0    0    0\n",
            "     0    0    0    0    0    0    0    0    0    0    0    0    0    0\n",
            "     0    0    0    0    0    0    0    0    0    0    0    0    0    0\n",
            "     0    0    0    0    0    0    0    0    0    0    0    0    0    0\n",
            "     0    0    0    0    0    0    0    0    0    0    0    0    0    0\n",
            "     0    0    0    0    0    0    0    0    0    0    0    0    0    0\n",
            "     0    0    0    0    0    0    0    0    0    0    0    0    0    0\n",
            "     0    0    0    0    0    0    0    0    0    0    0    0    0    0\n",
            "     0    0    0    0    0    0    0    0    0    0    0    0    0    0\n",
            "     0    0    0    0    0    0    0    0    0    0    0  840 1873    0\n",
            "  4510 4148    0 6543 1860 3674 5868    0    0    0    0    0    0    0\n",
            "     0 2996 5231 5868 2456 4148 6703    0    0 1552    0 6183    0 6187\n",
            "     0    0 2996    0  977  425    0 1467 5868]]\n",
            "1/1 [==============================] - 0s 491ms/step\n",
            "pos_tag_probabilities: \n",
            " [[0.01472008 0.01222165 0.01230817 ... 0.01219969 0.01229478 0.01237526]\n",
            " [0.01723644 0.01206269 0.01224331 ... 0.012053   0.01220339 0.01239581]\n",
            " [0.02033379 0.01185891 0.0121517  ... 0.01189647 0.01207117 0.01239937]\n",
            " ...\n",
            " [0.70427084 0.00212221 0.00299426 ... 0.00244887 0.00193573 0.00338294]\n",
            " [0.68613964 0.00226738 0.00315875 ... 0.00265958 0.00205896 0.00360587]\n",
            " [0.68542576 0.00227311 0.00317099 ... 0.00264502 0.00204784 0.00359632]]\n",
            "pos_tag_indices: \n",
            " [0, 0, 0, 0, 0, 0, 0, 0, 0, 0, 0, 0, 0, 0, 0, 0, 0, 0, 0, 0, 0, 0, 0, 0, 0, 0, 0, 0, 0, 0, 0, 0, 0, 0, 0, 0, 0, 0, 0, 0, 0, 0, 0, 0, 0, 0, 0, 0, 0, 0, 0, 0, 0, 0, 0, 0, 0, 0, 0, 0, 0, 0, 0, 0, 0, 0, 0, 0, 0, 0, 0, 0, 0, 0, 0, 0, 0, 0, 0, 0, 0, 0, 0, 0, 0, 0, 0, 0, 0, 0, 0, 0, 0, 0, 0, 0, 0, 0, 0, 0, 0, 0, 0, 0, 0, 0, 0, 0, 0, 0, 0, 0, 0, 0, 0, 0, 0, 0, 0, 0, 0, 0, 0, 0, 0, 0, 0, 0, 0, 0, 0, 0, 0, 0, 0, 0, 0, 0, 0, 0, 0, 0, 0, 0, 0, 0, 0, 0, 0, 0, 0, 0, 0, 0, 0, 0, 0, 0, 0, 0, 0, 0, 0, 0, 0, 0, 0, 0, 0, 0, 0, 0, 0, 0, 0, 0, 0, 0, 0, 0, 0, 0, 0, 0, 0, 0, 0, 0, 0, 0, 0, 0, 0, 0, 0, 0, 0, 0, 0, 0, 0, 0, 0, 0, 0, 0, 0, 0, 0, 0, 0, 0, 0, 0, 0, 0, 0, 0, 0, 0, 0, 0, 0, 0, 0, 0, 0, 0, 0, 0, 0, 0, 0, 0, 0, 0, 0, 0, 0, 0, 0, 0, 0, 0, 0, 0, 0, 0, 0, 0, 0, 0, 0, 0, 0, 0, 0, 0, 0, 0, 0, 0, 0, 0, 0, 0, 0, 0, 0, 0, 0, 0, 0, 0, 0, 0, 0, 0, 0, 0, 0, 0, 0, 0, 0, 0, 0, 0, 0, 0, 0, 0, 0, 0, 0, 0, 0, 0, 0, 0, 0, 0, 0]\n",
            "POS Tags: ['DKO', 'DKO', 'DKO', 'DKO', 'DKO', 'DKO', 'DKO', 'DKO', 'DKO', 'DKO', 'DKO', 'DKO', 'DKO', 'DKO', 'DKO', 'DKO', 'DKO', 'DKO', 'DKO', 'DKO', 'DKO', 'DKO', 'DKO', 'DKO', 'DKO', 'DKO', 'DKO', 'DKO', 'DKO', 'DKO', 'DKO', 'DKO', 'DKO', 'DKO', 'DKO', 'DKO', 'DKO', 'DKO', 'DKO', 'DKO', 'DKO', 'DKO', 'DKO', 'DKO', 'DKO', 'DKO', 'DKO', 'DKO', 'DKO', 'DKO', 'DKO', 'DKO', 'DKO', 'DKO', 'DKO', 'DKO', 'DKO', 'DKO', 'DKO', 'DKO', 'DKO', 'DKO', 'DKO', 'DKO', 'DKO', 'DKO', 'DKO', 'DKO', 'DKO', 'DKO', 'DKO', 'DKO', 'DKO', 'DKO', 'DKO', 'DKO', 'DKO', 'DKO', 'DKO', 'DKO', 'DKO', 'DKO', 'DKO', 'DKO', 'DKO', 'DKO', 'DKO', 'DKO', 'DKO', 'DKO', 'DKO', 'DKO', 'DKO', 'DKO', 'DKO', 'DKO', 'DKO', 'DKO', 'DKO', 'DKO', 'DKO', 'DKO', 'DKO', 'DKO', 'DKO', 'DKO', 'DKO', 'DKO', 'DKO', 'DKO', 'DKO', 'DKO', 'DKO', 'DKO', 'DKO', 'DKO', 'DKO', 'DKO', 'DKO', 'DKO', 'DKO', 'DKO', 'DKO', 'DKO', 'DKO', 'DKO', 'DKO', 'DKO', 'DKO', 'DKO', 'DKO', 'DKO', 'DKO', 'DKO', 'DKO', 'DKO', 'DKO', 'DKO', 'DKO', 'DKO', 'DKO', 'DKO', 'DKO', 'DKO', 'DKO', 'DKO', 'DKO', 'DKO', 'DKO', 'DKO', 'DKO', 'DKO', 'DKO', 'DKO', 'DKO', 'DKO', 'DKO', 'DKO', 'DKO', 'DKO', 'DKO', 'DKO', 'DKO', 'DKO', 'DKO', 'DKO', 'DKO', 'DKO', 'DKO', 'DKO', 'DKO', 'DKO', 'DKO', 'DKO', 'DKO', 'DKO', 'DKO', 'DKO', 'DKO', 'DKO', 'DKO', 'DKO', 'DKO', 'DKO', 'DKO', 'DKO', 'DKO', 'DKO', 'DKO', 'DKO', 'DKO', 'DKO', 'DKO', 'DKO', 'DKO', 'DKO', 'DKO', 'DKO', 'DKO', 'DKO', 'DKO', 'DKO', 'DKO', 'DKO', 'DKO', 'DKO', 'DKO', 'DKO', 'DKO', 'DKO', 'DKO', 'DKO', 'DKO', 'DKO', 'DKO', 'DKO', 'DKO', 'DKO', 'DKO', 'DKO', 'DKO', 'DKO', 'DKO', 'DKO', 'DKO', 'DKO', 'DKO', 'DKO', 'DKO', 'DKO', 'DKO', 'DKO', 'DKO', 'DKO', 'DKO', 'DKO', 'DKO', 'DKO', 'DKO', 'DKO', 'DKO', 'DKO', 'DKO', 'DKO', 'DKO', 'DKO', 'DKO', 'DKO', 'DKO', 'DKO', 'DKO', 'DKO', 'DKO', 'DKO', 'DKO', 'DKO', 'DKO', 'DKO', 'DKO', 'DKO', 'DKO', 'DKO', 'DKO', 'DKO', 'DKO', 'DKO', 'DKO', 'DKO', 'DKO', 'DKO', 'DKO', 'DKO', 'DKO', 'DKO', 'DKO', 'DKO', 'DKO', 'DKO', 'DKO', 'DKO', 'DKO', 'DKO', 'DKO', 'DKO', 'DKO', 'DKO', 'DKO', 'DKO', 'DKO', 'DKO', 'DKO', 'DKO', 'DKO', 'DKO', 'DKO', 'DKO', 'DKO', 'DKO', 'DKO', 'DKO', 'DKO', 'DKO', 'DKO']\n"
          ]
        }
      ]
    },
    {
      "cell_type": "code",
      "source": [
        "# user_input = input(\"Enter a sentence: \")\n",
        "user_input = \"राम लेख लेख्छ । \"\n",
        "\n",
        "# Tokenize and preprocess user input\n",
        "user_input_tokens = user_input.split()  # Basic tokenization\n",
        "user_input_indices = [word_to_idx.get(word, 0) for word in user_input_tokens]\n",
        "user_input_padded = pad_sequences([user_input_indices], maxlen=max_sequence_length)\n",
        "\n",
        "# Use POS tagging model on user input\n",
        "pos_tag_probabilities = model.predict(user_input_padded)[0]  # Get probabilities for each tag\n",
        "pos_tag_indices = [np.argmax(probabilities) for probabilities in pos_tag_probabilities]\n",
        "pos_tags_predicted = [idx_to_tag[idx] for idx in pos_tag_indices]\n",
        "\n",
        "print(\"POS Tags for User Input:\", pos_tags_predicted)"
      ],
      "metadata": {
        "colab": {
          "base_uri": "https://localhost:8080/"
        },
        "id": "Xmgny2w3CAZY",
        "outputId": "a9212674-6feb-40c3-be52-fde986b2a612"
      },
      "execution_count": 28,
      "outputs": [
        {
          "output_type": "stream",
          "name": "stdout",
          "text": [
            "1/1 [==============================] - 0s 42ms/step\n",
            "POS Tags for User Input: ['DKO', 'DKO', 'DKO', 'DKO', 'DKO', 'DKO', 'DKO', 'DKO', 'DKO', 'DKO', 'DKO', 'DKO', 'DKO', 'DKO', 'DKO', 'DKO', 'DKO', 'DKO', 'DKO', 'DKO', 'DKO', 'DKO', 'DKO', 'DKO', 'DKO', 'DKO', 'DKO', 'DKO', 'DKO', 'DKO', 'DKO', 'DKO', 'DKO', 'DKO', 'DKO', 'DKO', 'DKO', 'DKO', 'DKO', 'DKO', 'DKO', 'DKO', 'DKO', 'DKO', 'DKO', 'DKO', 'DKO', 'DKO', 'DKO', 'DKO', 'DKO', 'DKO', 'DKO', 'DKO', 'DKO', 'DKO', 'DKO', 'DKO', 'DKO', 'DKO', 'DKO', 'DKO', 'DKO', 'DKO', 'DKO', 'DKO', 'DKO', 'DKO', 'DKO', 'DKO', 'DKO', 'DKO', 'DKO', 'DKO', 'DKO', 'DKO', 'DKO', 'DKO', 'DKO', 'DKO', 'DKO', 'DKO', 'DKO', 'DKO', 'DKO', 'DKO', 'DKO', 'DKO', 'DKO', 'DKO', 'DKO', 'DKO', 'DKO', 'DKO', 'DKO', 'DKO', 'DKO', 'DKO', 'DKO', 'DKO', 'DKO', 'DKO', 'DKO', 'DKO', 'DKO', 'DKO', 'DKO', 'DKO', 'DKO', 'DKO', 'DKO', 'DKO', 'DKO', 'DKO', 'DKO', 'DKO', 'DKO', 'DKO', 'DKO', 'DKO', 'DKO', 'DKO', 'DKO', 'DKO', 'DKO', 'DKO', 'DKO', 'DKO', 'DKO', 'DKO', 'DKO', 'DKO', 'DKO', 'DKO', 'DKO', 'DKO', 'DKO', 'DKO', 'DKO', 'DKO', 'DKO', 'DKO', 'DKO', 'DKO', 'DKO', 'DKO', 'DKO', 'DKO', 'DKO', 'DKO', 'DKO', 'DKO', 'DKO', 'DKO', 'DKO', 'DKO', 'DKO', 'DKO', 'DKO', 'DKO', 'DKO', 'DKO', 'DKO', 'DKO', 'DKO', 'DKO', 'DKO', 'DKO', 'DKO', 'DKO', 'DKO', 'DKO', 'DKO', 'DKO', 'DKO', 'DKO', 'DKO', 'DKO', 'DKO', 'DKO', 'DKO', 'DKO', 'DKO', 'DKO', 'DKO', 'DKO', 'DKO', 'DKO', 'DKO', 'DKO', 'DKO', 'DKO', 'DKO', 'DKO', 'DKO', 'DKO', 'DKO', 'DKO', 'DKO', 'DKO', 'DKO', 'DKO', 'DKO', 'DKO', 'DKO', 'DKO', 'DKO', 'DKO', 'DKO', 'DKO', 'DKO', 'DKO', 'DKO', 'DKO', 'DKO', 'DKO', 'DKO', 'DKO', 'DKO', 'DKO', 'DKO', 'DKO', 'DKO', 'DKO', 'DKO', 'DKO', 'DKO', 'DKO', 'DKO', 'DKO', 'DKO', 'DKO', 'DKO', 'DKO', 'DKO', 'DKO', 'DKO', 'DKO', 'DKO', 'DKO', 'DKO', 'DKO', 'DKO', 'DKO', 'DKO', 'DKO', 'DKO', 'DKO', 'DKO', 'DKO', 'DKO', 'DKO', 'DKO', 'DKO', 'DKO', 'DKO', 'DKO', 'DKO', 'DKO', 'DKO', 'DKO', 'DKO', 'DKO', 'DKO', 'DKO', 'DKO', 'DKO', 'DKO', 'DKO', 'DKO', 'DKO', 'DKO', 'DKO', 'DKO', 'DKO', 'DKO', 'DKO', 'DKO', 'DKO', 'DKO', 'DKO', 'DKO', 'DKO', 'DKO', 'DKO', 'DKO', 'DKO', 'DKO', 'DKO', 'DKO', 'DKO', 'DKO', 'DKO', 'DKO', 'DKO', 'DKO', 'DKO', 'DKO', 'DKO', 'DKO', 'DKO', 'DKO', 'DKO']\n"
          ]
        }
      ]
    },
    {
      "cell_type": "code",
      "source": [
        "# user_input = input(\"Enter a sentence: \")\n",
        "user_input = \"राम लेख लेख्छ । \"\n",
        "\n",
        "# Tokenize and preprocess user input\n",
        "user_input_tokens = user_input.split()  # Basic tokenization\n",
        "user_input_indices = [word_to_idx.get(word, 0) for word in user_input_tokens]\n",
        "user_input_padded = pad_sequences([user_input_indices], maxlen=max_sequence_length)\n",
        "\n",
        "# Use POS tagging model on user input\n",
        "pos_tag_probabilities = model.predict(user_input_padded)[0]  # Get probabilities for each tag\n",
        "pos_tag_indices = [np.argmax(probabilities) for probabilities in pos_tag_probabilities]\n",
        "pos_tags_predicted = [idx_to_tag[idx] for idx in pos_tag_indices]\n",
        "\n",
        "# Print POS tags for user input words\n",
        "for word, tag in zip(user_input_tokens, pos_tags_predicted):\n",
        "    print(f\"Word: {word}, POS Tag: {tag}\")\n"
      ],
      "metadata": {
        "colab": {
          "base_uri": "https://localhost:8080/"
        },
        "id": "0bcFvNMtSNfv",
        "outputId": "cbc8c445-9547-47fc-c753-b74ecf2e8aaf"
      },
      "execution_count": 29,
      "outputs": [
        {
          "output_type": "stream",
          "name": "stdout",
          "text": [
            "1/1 [==============================] - 0s 47ms/step\n",
            "Word: राम, POS Tag: DKO\n",
            "Word: लेख, POS Tag: DKO\n",
            "Word: लेख्छ, POS Tag: DKO\n",
            "Word: ।, POS Tag: DKO\n"
          ]
        }
      ]
    },
    {
      "cell_type": "code",
      "source": [],
      "metadata": {
        "id": "vIRxmsAxSOEb"
      },
      "execution_count": 29,
      "outputs": []
    },
    {
      "cell_type": "code",
      "source": [],
      "metadata": {
        "id": "XtUvCMcXakIw"
      },
      "execution_count": 29,
      "outputs": []
    },
    {
      "cell_type": "code",
      "source": [],
      "metadata": {
        "id": "lKD6nNGbakFM"
      },
      "execution_count": 29,
      "outputs": []
    },
    {
      "cell_type": "code",
      "source": [],
      "metadata": {
        "id": "aVdOvxbsakCU"
      },
      "execution_count": 29,
      "outputs": []
    },
    {
      "cell_type": "code",
      "source": [
        "def pos_tag_sentence(user_input, word_to_idx, idx_to_tag, model):\n",
        "    # Preprocess user input\n",
        "    input_words = user_input.split()  # Tokenize user input\n",
        "    input_indices = [word_to_idx.get(word, 0) for word in input_words]  # Convert to indices\n",
        "\n",
        "    # Pad input sequence\n",
        "    max_sequence_length = model.input_shape[1]\n",
        "    padded_input_indices = pad_sequences([input_indices], maxlen=max_sequence_length, padding='post')\n",
        "\n",
        "    # Predict POS tags\n",
        "    predictions = model.predict(padded_input_indices)\n",
        "\n",
        "    # Convert predictions to POS tags\n",
        "    predicted_indices = np.argmax(predictions, axis=-1)[0]\n",
        "    predicted_tags = [idx_to_tag[idx] for idx in predicted_indices]\n",
        "\n",
        "    return list(zip(input_words, predicted_tags))\n",
        "\n"
      ],
      "metadata": {
        "id": "nuHJglDvaj_f"
      },
      "execution_count": 30,
      "outputs": []
    },
    {
      "cell_type": "code",
      "source": [
        "user_input = \"राम लेख लेख्छ ।\"  # Example user input\n",
        "tagged_words = pos_tag_sentence(user_input, word_to_idx, idx_to_tag, model)\n",
        "print(tagged_words)"
      ],
      "metadata": {
        "colab": {
          "base_uri": "https://localhost:8080/"
        },
        "id": "z46ycjLLapsD",
        "outputId": "9343951c-bd39-4322-bbb5-fde39f5f4242"
      },
      "execution_count": 31,
      "outputs": [
        {
          "output_type": "stream",
          "name": "stdout",
          "text": [
            "1/1 [==============================] - 1s 618ms/step\n",
            "[('राम', 'DKO'), ('लेख', 'DKO'), ('लेख्छ', 'DKO'), ('।', 'DKO')]\n"
          ]
        }
      ]
    },
    {
      "cell_type": "code",
      "source": [],
      "metadata": {
        "id": "t1kiBp48klmO"
      },
      "execution_count": 32,
      "outputs": []
    }
  ]
}